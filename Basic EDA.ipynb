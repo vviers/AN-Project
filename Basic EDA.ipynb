{
 "cells": [
  {
   "cell_type": "code",
   "execution_count": 1,
   "metadata": {
    "collapsed": true
   },
   "outputs": [],
   "source": [
    "import pandas as pd\n",
    "import numpy as np\n",
    "import matplotlib.pyplot as plt\n",
    "%matplotlib inline\n",
    "import warnings\n",
    "import seaborn as sns"
   ]
  },
  {
   "cell_type": "code",
   "execution_count": 2,
   "metadata": {
    "collapsed": true
   },
   "outputs": [],
   "source": [
    "warnings.filterwarnings('ignore')"
   ]
  },
  {
   "cell_type": "code",
   "execution_count": 3,
   "metadata": {
    "collapsed": true
   },
   "outputs": [],
   "source": [
    "from IPython.display import display"
   ]
  },
  {
   "cell_type": "markdown",
   "metadata": {},
   "source": [
    "# Data Structure (for reference)"
   ]
  },
  {
   "cell_type": "code",
   "execution_count": 28,
   "metadata": {
    "scrolled": false
   },
   "outputs": [
    {
     "name": "stdout",
     "output_type": "stream",
     "text": [
      "0: scrutins [-]\n",
      "    1: scrutin [-]\n",
      "        2: uid [-]\n",
      "        2: numero [-]\n",
      "        2: organeRef [-]\n",
      "        2: legislature [-]\n",
      "        2: sessionRef [-]\n",
      "        2: seanceRef [-]\n",
      "        2: dateScrutin [-]\n",
      "        2: quantiemeJourSeance [-]\n",
      "        2: typeVote [-]\n",
      "            3: codeTypeVote [-]\n",
      "            3: libelleTypeVote [-]\n",
      "            3: typeMajorite [-]\n",
      "        2: sort [-]\n",
      "            3: code [-]\n",
      "            3: libelle [-]\n",
      "        2: titre [-]\n",
      "        2: demandeur [-]\n",
      "            3: texte [-]\n",
      "            3: referenceLegislative [{http://www.w3.org/2001/XMLSchema-instance}nil]\n",
      "        2: objet [-]\n",
      "            3: libelle [-]\n",
      "            3: referenceLegislative [{http://www.w3.org/2001/XMLSchema-instance}nil]\n",
      "        2: modePublicationDesVotes [-]\n",
      "        2: syntheseVote [-]\n",
      "            3: nombreVotants [-]\n",
      "            3: suffragesExprimes [-]\n",
      "            3: nbrSuffragesRequis [-]\n",
      "            3: annonce [-]\n",
      "            3: decompte [-]\n",
      "                4: pour [-]\n",
      "                4: contre [-]\n",
      "                4: abstentions [-]\n",
      "                4: nonVotants [-]\n",
      "        2: ventilationVotes [-]\n",
      "            3: organe [-]\n",
      "                4: organeRef [-]\n",
      "                4: groupes [-]\n",
      "                    5: groupe [-]\n",
      "                        6: organeRef [-]\n",
      "                        6: nombreMembresGroupe [-]\n",
      "                        6: vote [-]\n",
      "                            7: positionMajoritaire [-]\n",
      "                            7: decompteVoix [-]\n",
      "                                8: pour [-]\n",
      "                                8: contre [-]\n",
      "                                8: abstention [-]\n",
      "                                8: nonVotant [-]\n",
      "                            7: decompteNominatif [-]\n",
      "                                8: nonVotants [-]\n",
      "                                    9: votant [-]\n",
      "                                        10: acteurRef [-]\n",
      "                                        10: mandatRef [-]\n",
      "                                        10: causePositionVote [-]\n",
      "                                8: pour [-]\n",
      "                                    9: votant [-]\n",
      "                                        10: acteurRef [-]\n",
      "                                        10: mandatRef [-]\n",
      "                                8: contre [-]\n",
      "                                8: abstentions [-]\n",
      "                                    9: votant [-]\n",
      "                                        10: acteurRef [-]\n",
      "                                        10: mandatRef [-]\n",
      "                                    9: votant [-]\n",
      "                                        10: acteurRef [-]\n",
      "                                        10: mandatRef [-]\n",
      "        2: miseAuPoint [{http://www.w3.org/2001/XMLSchema-instance}nil]\n",
      "            3: nonVotants [-]\n",
      "            3: pour [-]\n",
      "                4: votant [-]\n",
      "                    5: acteurRef [-]\n",
      "                    5: mandatRef [-]\n",
      "            3: contre [-]\n",
      "                4: votant [-]\n",
      "                    5: acteurRef [-]\n",
      "                    5: mandatRef [-]\n",
      "            3: abstentions [-]\n",
      "            3: nonVotantsVolontaires [-]\n",
      "                4: votant [-]\n",
      "                    5: acteurRef [-]\n",
      "                    5: mandatRef [-]\n",
      "                4: votant [-]\n",
      "                    5: acteurRef [-]\n",
      "                    5: mandatRef [-]\n"
     ]
    }
   ],
   "source": [
    "import re, collections\n",
    "from lxml import etree\n",
    "\n",
    "x =  open(\"Scrutins_XIV.xml\")\n",
    "xml = x.read()\n",
    "\n",
    "xml_root = etree.fromstring(xml)\n",
    "raw_tree = etree.ElementTree(xml_root)\n",
    "nice_tree = collections.OrderedDict()\n",
    " \n",
    "for tag in xml_root.iter():\n",
    "    path = re.sub('\\[[0-9]+\\]', '', raw_tree.getpath(tag))\n",
    "    if path not in nice_tree:\n",
    "        nice_tree[path] = []\n",
    "    if len(tag.keys()) > 0:\n",
    "        nice_tree[path].extend(attrib for attrib in tag.keys() if attrib not in nice_tree[path])            \n",
    " \n",
    "for path, attribs in nice_tree.items():\n",
    "    indent = int(path.count('/') - 1)\n",
    "    print('{0}{1}: {2} [{3}]'.format('    ' * indent, indent, path.split('/')[-1], ', '.join(attribs) if len(attribs) > 0 else '-'))"
   ]
  },
  {
   "cell_type": "code",
   "execution_count": 4,
   "metadata": {
    "collapsed": true
   },
   "outputs": [],
   "source": [
    "import xml.etree.ElementTree as ET\n",
    "tree = ET.parse('Scrutins_XIV.xml')\n",
    "root = tree.getroot()"
   ]
  },
  {
   "cell_type": "code",
   "execution_count": 5,
   "metadata": {
    "collapsed": true
   },
   "outputs": [],
   "source": [
    "all_dates = [root.getchildren()[i].getchildren()[6].text for i in np.arange(len(root.getchildren()))]\n",
    "all_dates = pd.to_datetime(all_dates, yearfirst = True)\n",
    "all_uid = [root.getchildren()[i].getchildren()[0].text for i in np.arange(len(root.getchildren()))]\n",
    "all_quantiemejour = [root.getchildren()[i].getchildren()[7].text for i in np.arange(len(root.getchildren()))]"
   ]
  },
  {
   "cell_type": "code",
   "execution_count": 6,
   "metadata": {
    "scrolled": true
   },
   "outputs": [
    {
     "data": {
      "text/html": [
       "<div>\n",
       "<style scoped>\n",
       "    .dataframe tbody tr th:only-of-type {\n",
       "        vertical-align: middle;\n",
       "    }\n",
       "\n",
       "    .dataframe tbody tr th {\n",
       "        vertical-align: top;\n",
       "    }\n",
       "\n",
       "    .dataframe thead th {\n",
       "        text-align: right;\n",
       "    }\n",
       "</style>\n",
       "<table border=\"1\" class=\"dataframe\">\n",
       "  <thead>\n",
       "    <tr style=\"text-align: right;\">\n",
       "      <th></th>\n",
       "      <th>Date</th>\n",
       "      <th>UID</th>\n",
       "      <th>Nth_day</th>\n",
       "    </tr>\n",
       "  </thead>\n",
       "  <tbody>\n",
       "    <tr>\n",
       "      <th>0</th>\n",
       "      <td>2012-07-03 00:00:00</td>\n",
       "      <td>VTANR5L14V1</td>\n",
       "      <td>1</td>\n",
       "    </tr>\n",
       "    <tr>\n",
       "      <th>1</th>\n",
       "      <td>2012-07-17 00:00:00</td>\n",
       "      <td>VTANR5L14V2</td>\n",
       "      <td>1</td>\n",
       "    </tr>\n",
       "    <tr>\n",
       "      <th>2</th>\n",
       "      <td>2012-07-18 00:00:00</td>\n",
       "      <td>VTANR5L14V3</td>\n",
       "      <td>1</td>\n",
       "    </tr>\n",
       "    <tr>\n",
       "      <th>3</th>\n",
       "      <td>2012-07-18 00:00:00</td>\n",
       "      <td>VTANR5L14V4</td>\n",
       "      <td>1</td>\n",
       "    </tr>\n",
       "    <tr>\n",
       "      <th>4</th>\n",
       "      <td>2012-07-18 00:00:00</td>\n",
       "      <td>VTANR5L14V5</td>\n",
       "      <td>2</td>\n",
       "    </tr>\n",
       "  </tbody>\n",
       "</table>\n",
       "</div>"
      ],
      "text/plain": [
       "                  Date          UID Nth_day\n",
       "0  2012-07-03 00:00:00  VTANR5L14V1       1\n",
       "1  2012-07-17 00:00:00  VTANR5L14V2       1\n",
       "2  2012-07-18 00:00:00  VTANR5L14V3       1\n",
       "3  2012-07-18 00:00:00  VTANR5L14V4       1\n",
       "4  2012-07-18 00:00:00  VTANR5L14V5       2"
      ]
     },
     "execution_count": 6,
     "metadata": {},
     "output_type": "execute_result"
    }
   ],
   "source": [
    "df = pd.DataFrame(data = [all_dates, all_uid, all_quantiemejour]\n",
    "                 ).transpose().rename(columns = {0:'Date', 1:'UID', 2:'Nth_day'})\n",
    "df.head()"
   ]
  },
  {
   "cell_type": "markdown",
   "metadata": {},
   "source": [
    "The French National Assembly is not in session everyday, and may have more than 1 vote on any given day. Let's compute the average number of vote."
   ]
  },
  {
   "cell_type": "code",
   "execution_count": 7,
   "metadata": {},
   "outputs": [
    {
     "data": {
      "text/plain": [
       "3.6300268096514747"
      ]
     },
     "execution_count": 7,
     "metadata": {},
     "output_type": "execute_result"
    }
   ],
   "source": [
    "len(df['Date']) / len(df['Date'].unique())"
   ]
  },
  {
   "cell_type": "markdown",
   "metadata": {},
   "source": [
    "Almost 4 votes on each working day... Let's explore the National Assembly's \"busyness\" over time."
   ]
  },
  {
   "cell_type": "code",
   "execution_count": 8,
   "metadata": {},
   "outputs": [
    {
     "data": {
      "image/png": "[encoded data removed]",
      "text/plain": [
       "<Figure size 1080x540 with 1 Axes>"
      ]
     },
     "metadata": {},
     "output_type": "display_data"
    }
   ],
   "source": [
    "count_votes = df.groupby(by = 'Date', as_index= False).agg(\"count\")\n",
    "plt.figure(figsize=(15, 7.5))\n",
    "plt.plot_date(x = count_votes.iloc[:, 0], y = count_votes.iloc[:, 1], fmt='o',\n",
    "              alpha = .5, ms = 3, color = \"red\");"
   ]
  },
  {
   "cell_type": "markdown",
   "metadata": {},
   "source": [
    "Investigate outliers... Could this have to do with \"the 100 days\" cliché where most new Presidents reform more during their first days in office?"
   ]
  },
  {
   "cell_type": "code",
   "execution_count": 9,
   "metadata": {},
   "outputs": [
    {
     "data": {
      "text/html": [
       "<div>\n",
       "<style scoped>\n",
       "    .dataframe tbody tr th:only-of-type {\n",
       "        vertical-align: middle;\n",
       "    }\n",
       "\n",
       "    .dataframe tbody tr th {\n",
       "        vertical-align: top;\n",
       "    }\n",
       "\n",
       "    .dataframe thead th {\n",
       "        text-align: right;\n",
       "    }\n",
       "</style>\n",
       "<table border=\"1\" class=\"dataframe\">\n",
       "  <thead>\n",
       "    <tr style=\"text-align: right;\">\n",
       "      <th></th>\n",
       "      <th>Date</th>\n",
       "      <th>UID</th>\n",
       "      <th>Nth_day</th>\n",
       "    </tr>\n",
       "  </thead>\n",
       "  <tbody>\n",
       "    <tr>\n",
       "      <th>39</th>\n",
       "      <td>2013-02-02</td>\n",
       "      <td>24</td>\n",
       "      <td>24</td>\n",
       "    </tr>\n",
       "    <tr>\n",
       "      <th>40</th>\n",
       "      <td>2013-02-03</td>\n",
       "      <td>33</td>\n",
       "      <td>33</td>\n",
       "    </tr>\n",
       "    <tr>\n",
       "      <th>42</th>\n",
       "      <td>2013-02-05</td>\n",
       "      <td>24</td>\n",
       "      <td>24</td>\n",
       "    </tr>\n",
       "    <tr>\n",
       "      <th>43</th>\n",
       "      <td>2013-02-06</td>\n",
       "      <td>39</td>\n",
       "      <td>39</td>\n",
       "    </tr>\n",
       "    <tr>\n",
       "      <th>60</th>\n",
       "      <td>2013-04-04</td>\n",
       "      <td>36</td>\n",
       "      <td>36</td>\n",
       "    </tr>\n",
       "    <tr>\n",
       "      <th>61</th>\n",
       "      <td>2013-04-05</td>\n",
       "      <td>51</td>\n",
       "      <td>51</td>\n",
       "    </tr>\n",
       "    <tr>\n",
       "      <th>63</th>\n",
       "      <td>2013-04-08</td>\n",
       "      <td>62</td>\n",
       "      <td>62</td>\n",
       "    </tr>\n",
       "    <tr>\n",
       "      <th>105</th>\n",
       "      <td>2013-10-11</td>\n",
       "      <td>22</td>\n",
       "      <td>22</td>\n",
       "    </tr>\n",
       "  </tbody>\n",
       "</table>\n",
       "</div>"
      ],
      "text/plain": [
       "          Date  UID  Nth_day\n",
       "39  2013-02-02   24       24\n",
       "40  2013-02-03   33       33\n",
       "42  2013-02-05   24       24\n",
       "43  2013-02-06   39       39\n",
       "60  2013-04-04   36       36\n",
       "61  2013-04-05   51       51\n",
       "63  2013-04-08   62       62\n",
       "105 2013-10-11   22       22"
      ]
     },
     "execution_count": 9,
     "metadata": {},
     "output_type": "execute_result"
    }
   ],
   "source": [
    "count_votes.loc[count_votes['UID'] > 20, :]"
   ]
  },
  {
   "cell_type": "markdown",
   "metadata": {},
   "source": [
    "The number of political groups can change due to shifting alliances."
   ]
  },
  {
   "cell_type": "code",
   "execution_count": 11,
   "metadata": {
    "collapsed": true
   },
   "outputs": [],
   "source": [
    "# how many groups?\n",
    "number_groups = [len(root.getchildren()[i].getchildren()[-2].getchildren()[0].getchildren()[1].getchildren()) for i in np.arange(len(root.getchildren()))]"
   ]
  },
  {
   "cell_type": "code",
   "execution_count": 12,
   "metadata": {},
   "outputs": [
    {
     "data": {
      "image/png": "[encoded data removed]",
      "text/plain": [
       "<Figure size 1080x540 with 1 Axes>"
      ]
     },
     "metadata": {},
     "output_type": "display_data"
    }
   ],
   "source": [
    "plt.figure(figsize=(15, 7.5))\n",
    "plt.plot_date(y = number_groups, x = all_dates, fmt='-o',\n",
    "              alpha = .5, ms = 7, color = \"red\");"
   ]
  },
  {
   "cell_type": "markdown",
   "metadata": {},
   "source": [
    "> Groupe du Rassemblement-UMP (R-UMP) est un ancien groupe qui avait fait scission du groupe UMP. Il est créé le 27 novembre 2012 à l'initiative de François Fillon à la suite des résultats contestés du congrès de l'UMP. Trois députés du parti radical élus avec l'étiquette de l'UMP, Jean Leonetti, Alain Marc, Frédéric Reiss, et l'unique député du Parti chrétien-démocrate (PCD), Dino Cinieri, font partie des 68 à rejoindre le groupe dès sa formation8. Le président du groupe est François Fillon. Il regroupe finalement 72 députés dont 3 apparenté. À la suite de l'accord trouvé entre François Fillon et Jean-François Copé, le groupe est dissous le 15 janvier 2013 et les députés rejoignent le groupe UMP."
   ]
  },
  {
   "cell_type": "markdown",
   "metadata": {},
   "source": [
    "> Depuis mai 2016, avec la disparition du groupe ÉCOLO, plusieurs députés EÉLV sont non-inscrits."
   ]
  },
  {
   "cell_type": "code",
   "execution_count": 13,
   "metadata": {
    "scrolled": false
   },
   "outputs": [
    {
     "data": {
      "text/plain": [
       "array([98, 99, 99, ..., 89, 89, 89])"
      ]
     },
     "execution_count": 13,
     "metadata": {},
     "output_type": "execute_result"
    }
   ],
   "source": [
    "num_deputes_PS = [root.getchildren()[i].getchildren()[-2].getchildren()[0].getchildren()[1].getchildren()[0].getchildren()[1].text for i in np.arange(len(root.getchildren()))]\n",
    "num_deputes_PS = np.array(list(map(int, num_deputes_PS)))\n",
    "\n",
    "num_deputes_UMP = [root.getchildren()[i].getchildren()[-2].getchildren()[0].getchildren()[1].getchildren()[1].getchildren()[1].text for i in np.arange(len(root.getchildren()))]\n",
    "num_deputes_UMP = np.array(list(map(int, num_deputes_UMP)))\n",
    "\n",
    "diff = num_deputes_PS - num_deputes_UMP\n",
    "diff"
   ]
  },
  {
   "cell_type": "code",
   "execution_count": 14,
   "metadata": {},
   "outputs": [
    {
     "data": {
      "image/png": "[encoded data removed]",
      "text/plain": [
       "<Figure size 1080x540 with 1 Axes>"
      ]
     },
     "metadata": {},
     "output_type": "display_data"
    }
   ],
   "source": [
    "plt.figure(figsize=(15, 7.5))\n",
    "plt.plot_date(y = num_deputes_UMP, x = all_dates, fmt='-o',\n",
    "              alpha = .5, ms = 7, color = \"blue\");\n",
    "plt.plot_date(y = num_deputes_PS, x = all_dates, fmt='-o',\n",
    "              alpha = .5, ms = 7, color = \"red\");"
   ]
  },
  {
   "cell_type": "markdown",
   "metadata": {},
   "source": [
    "#### Looking at the results of each ballot"
   ]
  },
  {
   "cell_type": "code",
   "execution_count": 15,
   "metadata": {
    "collapsed": true
   },
   "outputs": [],
   "source": [
    "num_voting = [int(root.getchildren()[i].getchildren()[-3].getchildren()[0].text) for i in np.arange(len(root.getchildren()))]"
   ]
  },
  {
   "cell_type": "code",
   "execution_count": 16,
   "metadata": {
    "collapsed": true
   },
   "outputs": [],
   "source": [
    "suf_expr = [int(root.getchildren()[i].getchildren()[-3].getchildren()[1].text) for i in np.arange(len(root.getchildren()))]"
   ]
  },
  {
   "cell_type": "code",
   "execution_count": 17,
   "metadata": {
    "collapsed": true
   },
   "outputs": [],
   "source": [
    "titres = [root.getchildren()[i].getchildren()[10].text for i in np.arange(len(root.getchildren()))]\n",
    "result = [root.getchildren()[i].getchildren()[9].getchildren()[0].text for i in np.arange(len(root.getchildren()))]\n",
    "origin = [root.getchildren()[i].getchildren()[11].getchildren()[0].text for i in np.arange(len(root.getchildren()))]"
   ]
  },
  {
   "cell_type": "code",
   "execution_count": 18,
   "metadata": {
    "collapsed": true
   },
   "outputs": [],
   "source": [
    "titres = [root.getchildren()[i].getchildren()[10].text for i in np.arange(len(root.getchildren()))]"
   ]
  },
  {
   "cell_type": "code",
   "execution_count": 19,
   "metadata": {
    "collapsed": true
   },
   "outputs": [],
   "source": [
    "pour = [int(root.getchildren()[i].getchildren()[-3].getchildren()[4].getchildren()[0].text) for i in np.arange(len(root.getchildren()))]\n",
    "contre = [int(root.getchildren()[i].getchildren()[-3].getchildren()[4].getchildren()[1].text) for i in np.arange(len(root.getchildren()))]\n",
    "abst = [int(root.getchildren()[i].getchildren()[-3].getchildren()[4].getchildren()[2].text) for i in np.arange(len(root.getchildren()))]\n",
    "no_vote = [int(root.getchildren()[i].getchildren()[-3].getchildren()[4].getchildren()[3].text) for i in np.arange(len(root.getchildren()))]"
   ]
  },
  {
   "cell_type": "code",
   "execution_count": 20,
   "metadata": {
    "scrolled": true
   },
   "outputs": [
    {
     "data": {
      "text/html": [
       "<div>\n",
       "<style scoped>\n",
       "    .dataframe tbody tr th:only-of-type {\n",
       "        vertical-align: middle;\n",
       "    }\n",
       "\n",
       "    .dataframe tbody tr th {\n",
       "        vertical-align: top;\n",
       "    }\n",
       "\n",
       "    .dataframe thead th {\n",
       "        text-align: right;\n",
       "    }\n",
       "</style>\n",
       "<table border=\"1\" class=\"dataframe\">\n",
       "  <thead>\n",
       "    <tr style=\"text-align: right;\">\n",
       "      <th></th>\n",
       "      <th>date</th>\n",
       "      <th>UID</th>\n",
       "      <th>titre</th>\n",
       "      <th>num_voting</th>\n",
       "      <th>suf_expr</th>\n",
       "      <th>pour</th>\n",
       "      <th>contre</th>\n",
       "      <th>abst</th>\n",
       "      <th>no_vote</th>\n",
       "      <th>result</th>\n",
       "      <th>origin</th>\n",
       "    </tr>\n",
       "  </thead>\n",
       "  <tbody>\n",
       "    <tr>\n",
       "      <th>0</th>\n",
       "      <td>2012-07-03</td>\n",
       "      <td>VTANR5L14V1</td>\n",
       "      <td>la déclaration de politique générale du gouver...</td>\n",
       "      <td>544</td>\n",
       "      <td>527</td>\n",
       "      <td>302</td>\n",
       "      <td>225</td>\n",
       "      <td>17</td>\n",
       "      <td>26</td>\n",
       "      <td>adopté</td>\n",
       "      <td>Conférence des présidents</td>\n",
       "    </tr>\n",
       "    <tr>\n",
       "      <th>1</th>\n",
       "      <td>2012-07-17</td>\n",
       "      <td>VTANR5L14V2</td>\n",
       "      <td>l'article 1er du projet de loi de finances rec...</td>\n",
       "      <td>110</td>\n",
       "      <td>109</td>\n",
       "      <td>61</td>\n",
       "      <td>48</td>\n",
       "      <td>1</td>\n",
       "      <td>27</td>\n",
       "      <td>adopté</td>\n",
       "      <td>Président du groupe de l'union pour un mouveme...</td>\n",
       "    </tr>\n",
       "    <tr>\n",
       "      <th>2</th>\n",
       "      <td>2012-07-18</td>\n",
       "      <td>VTANR5L14V3</td>\n",
       "      <td>les amendements de suppression de l'article 2 ...</td>\n",
       "      <td>260</td>\n",
       "      <td>259</td>\n",
       "      <td>81</td>\n",
       "      <td>178</td>\n",
       "      <td>1</td>\n",
       "      <td>26</td>\n",
       "      <td>rejeté</td>\n",
       "      <td>Président du groupe de l'union pour un mouveme...</td>\n",
       "    </tr>\n",
       "    <tr>\n",
       "      <th>3</th>\n",
       "      <td>2012-07-18</td>\n",
       "      <td>VTANR5L14V4</td>\n",
       "      <td>les amendements de suppression de l'alinéa 2 à...</td>\n",
       "      <td>265</td>\n",
       "      <td>265</td>\n",
       "      <td>88</td>\n",
       "      <td>177</td>\n",
       "      <td>0</td>\n",
       "      <td>27</td>\n",
       "      <td>rejeté</td>\n",
       "      <td>Président du groupe de l'union pour un mouveme...</td>\n",
       "    </tr>\n",
       "    <tr>\n",
       "      <th>4</th>\n",
       "      <td>2012-07-18</td>\n",
       "      <td>VTANR5L14V5</td>\n",
       "      <td>l'article 2 du projet de loi de finances recti...</td>\n",
       "      <td>153</td>\n",
       "      <td>153</td>\n",
       "      <td>89</td>\n",
       "      <td>64</td>\n",
       "      <td>0</td>\n",
       "      <td>26</td>\n",
       "      <td>adopté</td>\n",
       "      <td>Président du groupe de l'union pour un mouveme...</td>\n",
       "    </tr>\n",
       "  </tbody>\n",
       "</table>\n",
       "</div>"
      ],
      "text/plain": [
       "        date          UID                                              titre  \\\n",
       "0 2012-07-03  VTANR5L14V1  la déclaration de politique générale du gouver...   \n",
       "1 2012-07-17  VTANR5L14V2  l'article 1er du projet de loi de finances rec...   \n",
       "2 2012-07-18  VTANR5L14V3  les amendements de suppression de l'article 2 ...   \n",
       "3 2012-07-18  VTANR5L14V4  les amendements de suppression de l'alinéa 2 à...   \n",
       "4 2012-07-18  VTANR5L14V5  l'article 2 du projet de loi de finances recti...   \n",
       "\n",
       "   num_voting  suf_expr  pour  contre  abst  no_vote  result  \\\n",
       "0         544       527   302     225    17       26  adopté   \n",
       "1         110       109    61      48     1       27  adopté   \n",
       "2         260       259    81     178     1       26  rejeté   \n",
       "3         265       265    88     177     0       27  rejeté   \n",
       "4         153       153    89      64     0       26  adopté   \n",
       "\n",
       "                                              origin  \n",
       "0                          Conférence des présidents  \n",
       "1  Président du groupe de l'union pour un mouveme...  \n",
       "2  Président du groupe de l'union pour un mouveme...  \n",
       "3  Président du groupe de l'union pour un mouveme...  \n",
       "4  Président du groupe de l'union pour un mouveme...  "
      ]
     },
     "execution_count": 20,
     "metadata": {},
     "output_type": "execute_result"
    }
   ],
   "source": [
    "vote_results = pd.DataFrame(data = [all_dates, all_uid, titres, num_voting, suf_expr, pour, contre, abst, no_vote, result, origin]\n",
    "                           ).transpose().rename(columns = {0:'date', 1:'UID', 2:'titre', 3:'num_voting', \n",
    "                                                           4:'suf_expr', 5:'pour', 6:'contre', 7:'abst',\n",
    "                                                           8:'no_vote', 9:'result', 10:'origin'}).fillna(value='None', inplace = False)\n",
    "vote_results.head()"
   ]
  },
  {
   "cell_type": "markdown",
   "metadata": {},
   "source": [
    "NB : abstention n'est pas comptée dans les 'suffrages_exprimés', mais est compté dans le nombre de votants."
   ]
  },
  {
   "cell_type": "code",
   "execution_count": 21,
   "metadata": {
    "collapsed": true
   },
   "outputs": [],
   "source": [
    "vote_results['prop_pour'] = vote_results['pour'] / vote_results['suf_expr']\n",
    "vote_results['prop_contre'] = vote_results['contre'] / vote_results['suf_expr']"
   ]
  },
  {
   "cell_type": "code",
   "execution_count": 22,
   "metadata": {
    "collapsed": true
   },
   "outputs": [],
   "source": [
    "adopte = vote_results.loc[vote_results['result'] == 'adopté', :]\n",
    "rejete = vote_results.loc[vote_results['result'] == 'rejeté', :]"
   ]
  },
  {
   "cell_type": "code",
   "execution_count": 23,
   "metadata": {},
   "outputs": [
    {
     "data": {
      "text/plain": [
       "(427, 927)"
      ]
     },
     "execution_count": 23,
     "metadata": {},
     "output_type": "execute_result"
    }
   ],
   "source": [
    "adopte.shape[0], rejete.shape[0]\n",
    "# more rejection than adoption"
   ]
  },
  {
   "cell_type": "code",
   "execution_count": 24,
   "metadata": {
    "scrolled": false
   },
   "outputs": [
    {
     "data": {
      "image/png": "[encoded data removed]",
      "text/plain": [
       "<Figure size 1080x288 with 1 Axes>"
      ]
     },
     "metadata": {},
     "output_type": "display_data"
    },
    {
     "data": {
      "image/png": "[encoded data removed]",
      "text/plain": [
       "<Figure size 1080x288 with 1 Axes>"
      ]
     },
     "metadata": {},
     "output_type": "display_data"
    }
   ],
   "source": [
    "plt.figure(figsize=(15, 4))\n",
    "plt.plot_date(x = adopte['date'], y = adopte['prop_pour'], color = 'green');\n",
    "plt.figure(figsize=(15, 4))\n",
    "plt.plot_date(x = rejete['date'], y = rejete['prop_pour'], color = 'red');"
   ]
  },
  {
   "cell_type": "markdown",
   "metadata": {},
   "source": [
    "**Outliers in red are '49.3'. Each is a 'motion de censure' from the opposition!**"
   ]
  },
  {
   "cell_type": "code",
   "execution_count": 23,
   "metadata": {
    "scrolled": false
   },
   "outputs": [
    {
     "data": {
      "text/html": [
       "<div>\n",
       "<style>\n",
       "    .dataframe thead tr:only-child th {\n",
       "        text-align: right;\n",
       "    }\n",
       "\n",
       "    .dataframe thead th {\n",
       "        text-align: left;\n",
       "    }\n",
       "\n",
       "    .dataframe tbody tr th {\n",
       "        vertical-align: top;\n",
       "    }\n",
       "</style>\n",
       "<table border=\"1\" class=\"dataframe\">\n",
       "  <thead>\n",
       "    <tr style=\"text-align: right;\">\n",
       "      <th></th>\n",
       "      <th>date</th>\n",
       "      <th>UID</th>\n",
       "      <th>titre</th>\n",
       "      <th>num_voting</th>\n",
       "      <th>suf_expr</th>\n",
       "      <th>pour</th>\n",
       "      <th>contre</th>\n",
       "      <th>abst</th>\n",
       "      <th>no_vote</th>\n",
       "      <th>result</th>\n",
       "      <th>origin</th>\n",
       "      <th>prop_pour</th>\n",
       "      <th>prop_contre</th>\n",
       "    </tr>\n",
       "  </thead>\n",
       "  <tbody>\n",
       "    <tr>\n",
       "      <th>291</th>\n",
       "      <td>2013-03-20</td>\n",
       "      <td>VTANR5L14V292</td>\n",
       "      <td>la motion de censure déposée en application de...</td>\n",
       "      <td>228</td>\n",
       "      <td>228</td>\n",
       "      <td>228</td>\n",
       "      <td>0</td>\n",
       "      <td>0</td>\n",
       "      <td>1</td>\n",
       "      <td>rejeté</td>\n",
       "      <td>Conférence des présidents</td>\n",
       "      <td>1.0</td>\n",
       "      <td>0.0</td>\n",
       "    </tr>\n",
       "    <tr>\n",
       "      <th>1043</th>\n",
       "      <td>2015-02-19</td>\n",
       "      <td>VTANR5L14V1044</td>\n",
       "      <td>la motion de censure déposée en application de...</td>\n",
       "      <td>234</td>\n",
       "      <td>234</td>\n",
       "      <td>234</td>\n",
       "      <td>0</td>\n",
       "      <td>0</td>\n",
       "      <td>1</td>\n",
       "      <td>rejeté</td>\n",
       "      <td>Conférence des présidents</td>\n",
       "      <td>1.0</td>\n",
       "      <td>0.0</td>\n",
       "    </tr>\n",
       "    <tr>\n",
       "      <th>1132</th>\n",
       "      <td>2015-06-18</td>\n",
       "      <td>VTANR5L14V1133</td>\n",
       "      <td>la motion de censure déposée en application de...</td>\n",
       "      <td>198</td>\n",
       "      <td>198</td>\n",
       "      <td>198</td>\n",
       "      <td>0</td>\n",
       "      <td>0</td>\n",
       "      <td>3</td>\n",
       "      <td>rejeté</td>\n",
       "      <td>Conférence des présidents</td>\n",
       "      <td>1.0</td>\n",
       "      <td>0.0</td>\n",
       "    </tr>\n",
       "    <tr>\n",
       "      <th>1269</th>\n",
       "      <td>2016-05-12</td>\n",
       "      <td>VTANR5L14V1270</td>\n",
       "      <td>la motion de censure déposée par MM. Christian...</td>\n",
       "      <td>246</td>\n",
       "      <td>246</td>\n",
       "      <td>246</td>\n",
       "      <td>0</td>\n",
       "      <td>0</td>\n",
       "      <td>1</td>\n",
       "      <td>rejeté</td>\n",
       "      <td>None</td>\n",
       "      <td>1.0</td>\n",
       "      <td>0.0</td>\n",
       "    </tr>\n",
       "  </tbody>\n",
       "</table>\n",
       "</div>"
      ],
      "text/plain": [
       "           date             UID  \\\n",
       "291  2013-03-20   VTANR5L14V292   \n",
       "1043 2015-02-19  VTANR5L14V1044   \n",
       "1132 2015-06-18  VTANR5L14V1133   \n",
       "1269 2016-05-12  VTANR5L14V1270   \n",
       "\n",
       "                                                  titre  num_voting  suf_expr  \\\n",
       "291   la motion de censure déposée en application de...         228       228   \n",
       "1043  la motion de censure déposée en application de...         234       234   \n",
       "1132  la motion de censure déposée en application de...         198       198   \n",
       "1269  la motion de censure déposée par MM. Christian...         246       246   \n",
       "\n",
       "      pour  contre  abst  no_vote  result                     origin  \\\n",
       "291    228       0     0        1  rejeté  Conférence des présidents   \n",
       "1043   234       0     0        1  rejeté  Conférence des présidents   \n",
       "1132   198       0     0        3  rejeté  Conférence des présidents   \n",
       "1269   246       0     0        1  rejeté                       None   \n",
       "\n",
       "      prop_pour  prop_contre  \n",
       "291         1.0          0.0  \n",
       "1043        1.0          0.0  \n",
       "1132        1.0          0.0  \n",
       "1269        1.0          0.0  "
      ]
     },
     "execution_count": 23,
     "metadata": {},
     "output_type": "execute_result"
    }
   ],
   "source": [
    "rejete.loc[rejete['prop_pour'] == 1, :]"
   ]
  },
  {
   "cell_type": "code",
   "execution_count": 27,
   "metadata": {},
   "outputs": [
    {
     "data": {
      "text/html": [
       "<div>\n",
       "<style scoped>\n",
       "    .dataframe tbody tr th:only-of-type {\n",
       "        vertical-align: middle;\n",
       "    }\n",
       "\n",
       "    .dataframe tbody tr th {\n",
       "        vertical-align: top;\n",
       "    }\n",
       "\n",
       "    .dataframe thead th {\n",
       "        text-align: right;\n",
       "    }\n",
       "</style>\n",
       "<table border=\"1\" class=\"dataframe\">\n",
       "  <thead>\n",
       "    <tr style=\"text-align: right;\">\n",
       "      <th></th>\n",
       "      <th>date</th>\n",
       "      <th>UID</th>\n",
       "      <th>titre</th>\n",
       "      <th>num_voting</th>\n",
       "      <th>suf_expr</th>\n",
       "      <th>pour</th>\n",
       "      <th>contre</th>\n",
       "      <th>abst</th>\n",
       "      <th>no_vote</th>\n",
       "      <th>result</th>\n",
       "      <th>origin</th>\n",
       "      <th>prop_pour</th>\n",
       "      <th>prop_contre</th>\n",
       "    </tr>\n",
       "  </thead>\n",
       "  <tbody>\n",
       "    <tr>\n",
       "      <th>65</th>\n",
       "      <td>2012-11-22</td>\n",
       "      <td>VTANR5L14V66</td>\n",
       "      <td>l'ensemble de la proposition de loi visant à ...</td>\n",
       "      <td>90</td>\n",
       "      <td>90</td>\n",
       "      <td>90</td>\n",
       "      <td>0</td>\n",
       "      <td>0</td>\n",
       "      <td>2</td>\n",
       "      <td>adopté</td>\n",
       "      <td>Président du groupe de l'union des démocrates ...</td>\n",
       "      <td>1.0</td>\n",
       "      <td>0.0</td>\n",
       "    </tr>\n",
       "    <tr>\n",
       "      <th>73</th>\n",
       "      <td>2012-11-27</td>\n",
       "      <td>VTANR5L14V74</td>\n",
       "      <td>l'ensemble du projet de loi relatif à la sécur...</td>\n",
       "      <td>46</td>\n",
       "      <td>45</td>\n",
       "      <td>45</td>\n",
       "      <td>0</td>\n",
       "      <td>1</td>\n",
       "      <td>2</td>\n",
       "      <td>adopté</td>\n",
       "      <td>Président du groupe de l'union pour un mouveme...</td>\n",
       "      <td>1.0</td>\n",
       "      <td>0.0</td>\n",
       "    </tr>\n",
       "    <tr>\n",
       "      <th>103</th>\n",
       "      <td>2013-02-02</td>\n",
       "      <td>VTANR5L14V104</td>\n",
       "      <td>l'amendement n° 17 de M. Pélissard après l'art...</td>\n",
       "      <td>275</td>\n",
       "      <td>275</td>\n",
       "      <td>275</td>\n",
       "      <td>0</td>\n",
       "      <td>0</td>\n",
       "      <td>1</td>\n",
       "      <td>adopté</td>\n",
       "      <td>Président du groupe de l'union pour un mouveme...</td>\n",
       "      <td>1.0</td>\n",
       "      <td>0.0</td>\n",
       "    </tr>\n",
       "    <tr>\n",
       "      <th>247</th>\n",
       "      <td>2013-02-08</td>\n",
       "      <td>VTANR5L14V248</td>\n",
       "      <td>l'amendement n° 2247 de M. Mariton et les amen...</td>\n",
       "      <td>93</td>\n",
       "      <td>93</td>\n",
       "      <td>93</td>\n",
       "      <td>0</td>\n",
       "      <td>0</td>\n",
       "      <td>2</td>\n",
       "      <td>adopté</td>\n",
       "      <td>Président du groupe de l'union pour un mouveme...</td>\n",
       "      <td>1.0</td>\n",
       "      <td>0.0</td>\n",
       "    </tr>\n",
       "    <tr>\n",
       "      <th>280</th>\n",
       "      <td>2013-02-26</td>\n",
       "      <td>VTANR5L14V281</td>\n",
       "      <td>l'ensemble de la proposition de loi relative a...</td>\n",
       "      <td>469</td>\n",
       "      <td>461</td>\n",
       "      <td>461</td>\n",
       "      <td>0</td>\n",
       "      <td>8</td>\n",
       "      <td>1</td>\n",
       "      <td>adopté</td>\n",
       "      <td>Conférence des présidents</td>\n",
       "      <td>1.0</td>\n",
       "      <td>0.0</td>\n",
       "    </tr>\n",
       "  </tbody>\n",
       "</table>\n",
       "</div>"
      ],
      "text/plain": [
       "          date            UID  \\\n",
       "65  2012-11-22   VTANR5L14V66   \n",
       "73  2012-11-27   VTANR5L14V74   \n",
       "103 2013-02-02  VTANR5L14V104   \n",
       "247 2013-02-08  VTANR5L14V248   \n",
       "280 2013-02-26  VTANR5L14V281   \n",
       "\n",
       "                                                 titre  num_voting  suf_expr  \\\n",
       "65    l'ensemble de la proposition de loi visant à ...          90        90   \n",
       "73   l'ensemble du projet de loi relatif à la sécur...          46        45   \n",
       "103  l'amendement n° 17 de M. Pélissard après l'art...         275       275   \n",
       "247  l'amendement n° 2247 de M. Mariton et les amen...          93        93   \n",
       "280  l'ensemble de la proposition de loi relative a...         469       461   \n",
       "\n",
       "     pour  contre  abst  no_vote  result  \\\n",
       "65     90       0     0        2  adopté   \n",
       "73     45       0     1        2  adopté   \n",
       "103   275       0     0        1  adopté   \n",
       "247    93       0     0        2  adopté   \n",
       "280   461       0     8        1  adopté   \n",
       "\n",
       "                                                origin  prop_pour  prop_contre  \n",
       "65   Président du groupe de l'union des démocrates ...        1.0          0.0  \n",
       "73   Président du groupe de l'union pour un mouveme...        1.0          0.0  \n",
       "103  Président du groupe de l'union pour un mouveme...        1.0          0.0  \n",
       "247  Président du groupe de l'union pour un mouveme...        1.0          0.0  \n",
       "280                          Conférence des présidents        1.0          0.0  "
      ]
     },
     "execution_count": 27,
     "metadata": {},
     "output_type": "execute_result"
    }
   ],
   "source": [
    "adopte.loc[adopte['prop_pour'] == 1, :].head()"
   ]
  },
  {
   "cell_type": "markdown",
   "metadata": {},
   "source": [
    "# Origin of each vote\n",
    "### Needs a lot of cleaning..."
   ]
  },
  {
   "cell_type": "code",
   "execution_count": 109,
   "metadata": {},
   "outputs": [],
   "source": [
    "#vote_results[['origin', 'UID']].groupby('origin').count().sort_values(by = 'UID', ascending = False)[\"UID\"]\n",
    "\n",
    "opp = [\"Président du groupe de l'union pour un mouvement populaire\",\n",
    " \"Président du groupe Les Républicains\", \n",
    " \"Président du groupe Les Républicains\\n\\nPrésident du groupe de l'union des démocrates et indépendants\",\n",
    " \"Président du groupe de l'union des démocrates et indépendants\", \"UMP\"] # UMP, then LR\n",
    "\n",
    "fl = [\"Président du groupe de la gauche démocrate et républicaine\"] # far-left\n",
    "\n",
    "maj = [\"Président du groupe socialiste, républicain et citoyen\",\n",
    " \"Président du groupe socialiste, écologiste et républicain\"\n",
    " \"Président du groupe radical, républicain, démocrate et progressiste\", \"Gouvernement\"] # Majorité Présidentielle\n",
    "\n",
    "eco = [\"Président du groupe écologiste\"] # Green party\n",
    "\n",
    "pdt = ['Conférence des présidents']"
   ]
  },
  {
   "cell_type": "code",
   "execution_count": 113,
   "metadata": {},
   "outputs": [],
   "source": [
    "vote_results['right'] = 0\n",
    "vote_results['farleft'] = 0\n",
    "vote_results['maj'] = 0\n",
    "vote_results['eco'] = 0\n",
    "vote_results['pdt'] = 0\n",
    "vote_results['other'] = 0"
   ]
  },
  {
   "cell_type": "code",
   "execution_count": 115,
   "metadata": {},
   "outputs": [
    {
     "name": "stdout",
     "output_type": "stream",
     "text": [
      "0\n",
      "100\n",
      "200\n",
      "300\n",
      "400\n",
      "500\n",
      "600\n",
      "700\n",
      "800\n",
      "900\n",
      "1000\n",
      "1100\n",
      "1200\n",
      "1300\n"
     ]
    }
   ],
   "source": [
    "for t in times:\n",
    "    if (t % 100 == 0):\n",
    "        print(t)\n",
    "    if (vote_results['origin'][t] in opp):\n",
    "        vote_results['right'][t] = 1\n",
    "        \n",
    "    elif (vote_results['origin'][t] in fl):\n",
    "        vote_results['farleft'][t] = 1\n",
    "        \n",
    "    elif (vote_results['origin'][t] in maj):\n",
    "        vote_results['maj'][t] = 1\n",
    "        \n",
    "    elif (vote_results['origin'][t] in eco):\n",
    "        vote_results['eco'][t] = 1\n",
    "        \n",
    "    elif (vote_results['origin'][t] in pdt):\n",
    "        vote_results['pdt'][t] = 1\n",
    "        \n",
    "    else: vote_results['other'][t] = 1"
   ]
  },
  {
   "cell_type": "markdown",
   "metadata": {},
   "source": [
    "### Histogram of ballot outcome by ballot proponents (Right wing in Brown, Left wing (majority) in Blue, _Conference des Presidents_ in Green)"
   ]
  },
  {
   "cell_type": "code",
   "execution_count": 125,
   "metadata": {},
   "outputs": [
    {
     "data": {
      "image/png": "[encoded data removed]",
      "text/plain": [
       "<matplotlib.figure.Figure at 0x12ae87be0>"
      ]
     },
     "metadata": {},
     "output_type": "display_data"
    }
   ],
   "source": [
    "vote_results[vote_results['right'] == 1]['prop_pour'].hist(bins = 100, alpha = .5);\n",
    "vote_results[vote_results['maj'] == 1]['prop_pour'].hist(bins = 100, alpha = .5);\n",
    "vote_results[vote_results['pdt'] == 1]['prop_pour'].hist(bins = 100, alpha = .5);"
   ]
  },
  {
   "cell_type": "markdown",
   "metadata": {},
   "source": [
    "# Analysis of Results"
   ]
  },
  {
   "cell_type": "code",
   "execution_count": 55,
   "metadata": {
    "scrolled": true
   },
   "outputs": [
    {
     "data": {
      "text/html": [
       "<div>\n",
       "<style>\n",
       "    .dataframe thead tr:only-child th {\n",
       "        text-align: right;\n",
       "    }\n",
       "\n",
       "    .dataframe thead th {\n",
       "        text-align: left;\n",
       "    }\n",
       "\n",
       "    .dataframe tbody tr th {\n",
       "        vertical-align: top;\n",
       "    }\n",
       "</style>\n",
       "<table border=\"1\" class=\"dataframe\">\n",
       "  <thead>\n",
       "    <tr style=\"text-align: right;\">\n",
       "      <th></th>\n",
       "      <th>date</th>\n",
       "      <th>UID</th>\n",
       "      <th>titre</th>\n",
       "      <th>num_voting</th>\n",
       "      <th>suf_expr</th>\n",
       "      <th>pour</th>\n",
       "      <th>contre</th>\n",
       "      <th>abst</th>\n",
       "      <th>no_vote</th>\n",
       "      <th>result</th>\n",
       "      <th>origin</th>\n",
       "      <th>prop_pour</th>\n",
       "      <th>prop_contre</th>\n",
       "    </tr>\n",
       "  </thead>\n",
       "  <tbody>\n",
       "    <tr>\n",
       "      <th>0</th>\n",
       "      <td>2012-07-03</td>\n",
       "      <td>VTANR5L14V1</td>\n",
       "      <td>la déclaration de politique générale du gouver...</td>\n",
       "      <td>544</td>\n",
       "      <td>527</td>\n",
       "      <td>302</td>\n",
       "      <td>225</td>\n",
       "      <td>17</td>\n",
       "      <td>26</td>\n",
       "      <td>adopté</td>\n",
       "      <td>Conférence des présidents</td>\n",
       "      <td>0.573055</td>\n",
       "      <td>0.426945</td>\n",
       "    </tr>\n",
       "    <tr>\n",
       "      <th>1</th>\n",
       "      <td>2012-07-17</td>\n",
       "      <td>VTANR5L14V2</td>\n",
       "      <td>l'article 1er du projet de loi de finances rec...</td>\n",
       "      <td>110</td>\n",
       "      <td>109</td>\n",
       "      <td>61</td>\n",
       "      <td>48</td>\n",
       "      <td>1</td>\n",
       "      <td>27</td>\n",
       "      <td>adopté</td>\n",
       "      <td>Président du groupe de l'union pour un mouveme...</td>\n",
       "      <td>0.559633</td>\n",
       "      <td>0.440367</td>\n",
       "    </tr>\n",
       "    <tr>\n",
       "      <th>2</th>\n",
       "      <td>2012-07-18</td>\n",
       "      <td>VTANR5L14V3</td>\n",
       "      <td>les amendements de suppression de l'article 2 ...</td>\n",
       "      <td>260</td>\n",
       "      <td>259</td>\n",
       "      <td>81</td>\n",
       "      <td>178</td>\n",
       "      <td>1</td>\n",
       "      <td>26</td>\n",
       "      <td>rejeté</td>\n",
       "      <td>Président du groupe de l'union pour un mouveme...</td>\n",
       "      <td>0.312741</td>\n",
       "      <td>0.687259</td>\n",
       "    </tr>\n",
       "    <tr>\n",
       "      <th>3</th>\n",
       "      <td>2012-07-18</td>\n",
       "      <td>VTANR5L14V4</td>\n",
       "      <td>les amendements de suppression de l'alinéa 2 à...</td>\n",
       "      <td>265</td>\n",
       "      <td>265</td>\n",
       "      <td>88</td>\n",
       "      <td>177</td>\n",
       "      <td>0</td>\n",
       "      <td>27</td>\n",
       "      <td>rejeté</td>\n",
       "      <td>Président du groupe de l'union pour un mouveme...</td>\n",
       "      <td>0.332075</td>\n",
       "      <td>0.667925</td>\n",
       "    </tr>\n",
       "    <tr>\n",
       "      <th>4</th>\n",
       "      <td>2012-07-18</td>\n",
       "      <td>VTANR5L14V5</td>\n",
       "      <td>l'article 2 du projet de loi de finances recti...</td>\n",
       "      <td>153</td>\n",
       "      <td>153</td>\n",
       "      <td>89</td>\n",
       "      <td>64</td>\n",
       "      <td>0</td>\n",
       "      <td>26</td>\n",
       "      <td>adopté</td>\n",
       "      <td>Président du groupe de l'union pour un mouveme...</td>\n",
       "      <td>0.581699</td>\n",
       "      <td>0.418301</td>\n",
       "    </tr>\n",
       "  </tbody>\n",
       "</table>\n",
       "</div>"
      ],
      "text/plain": [
       "        date          UID                                              titre  \\\n",
       "0 2012-07-03  VTANR5L14V1  la déclaration de politique générale du gouver...   \n",
       "1 2012-07-17  VTANR5L14V2  l'article 1er du projet de loi de finances rec...   \n",
       "2 2012-07-18  VTANR5L14V3  les amendements de suppression de l'article 2 ...   \n",
       "3 2012-07-18  VTANR5L14V4  les amendements de suppression de l'alinéa 2 à...   \n",
       "4 2012-07-18  VTANR5L14V5  l'article 2 du projet de loi de finances recti...   \n",
       "\n",
       "   num_voting  suf_expr  pour  contre  abst  no_vote  result  \\\n",
       "0         544       527   302     225    17       26  adopté   \n",
       "1         110       109    61      48     1       27  adopté   \n",
       "2         260       259    81     178     1       26  rejeté   \n",
       "3         265       265    88     177     0       27  rejeté   \n",
       "4         153       153    89      64     0       26  adopté   \n",
       "\n",
       "                                              origin  prop_pour  prop_contre  \n",
       "0                          Conférence des présidents   0.573055     0.426945  \n",
       "1  Président du groupe de l'union pour un mouveme...   0.559633     0.440367  \n",
       "2  Président du groupe de l'union pour un mouveme...   0.312741     0.687259  \n",
       "3  Président du groupe de l'union pour un mouveme...   0.332075     0.667925  \n",
       "4  Président du groupe de l'union pour un mouveme...   0.581699     0.418301  "
      ]
     },
     "execution_count": 55,
     "metadata": {},
     "output_type": "execute_result"
    }
   ],
   "source": [
    "vote_results.head()"
   ]
  },
  {
   "cell_type": "code",
   "execution_count": 28,
   "metadata": {
    "scrolled": true
   },
   "outputs": [
    {
     "data": {
      "image/png": "[encoded data removed]",
      "text/plain": [
       "<Figure size 1080x360 with 2 Axes>"
      ]
     },
     "metadata": {},
     "output_type": "display_data"
    }
   ],
   "source": [
    "vote_results['num_voting'].hist(bins = 100, by = vote_results['result'], figsize = (15, 5));"
   ]
  },
  {
   "cell_type": "code",
   "execution_count": 29,
   "metadata": {},
   "outputs": [
    {
     "data": {
      "image/png": "[encoded data removed]",
      "text/plain": [
       "<Figure size 1080x540 with 1 Axes>"
      ]
     },
     "metadata": {},
     "output_type": "display_data"
    }
   ],
   "source": [
    "adopte['num_voting'].hist(bins = 100, alpha = .5, figsize = (15, 7.5), label = 'Adopted');\n",
    "rejete['num_voting'].hist(bins = 100, alpha = .5, label = 'Rejected');\n",
    "plt.xlabel('Number of Voting MPs');\n",
    "plt.legend();"
   ]
  },
  {
   "cell_type": "code",
   "execution_count": 30,
   "metadata": {
    "scrolled": true
   },
   "outputs": [
    {
     "data": {
      "image/png": "[encoded data removed]",
      "text/plain": [
       "<Figure size 1080x540 with 1 Axes>"
      ]
     },
     "metadata": {},
     "output_type": "display_data"
    }
   ],
   "source": [
    "vote_results['prop_pour'].hist(bins = 100, alpha = 1, figsize = (15, 7.5));\n",
    "plt.vlines(x = .5, ymin = 0, ymax = 50);\n",
    "plt.fill_betweenx(y = np.linspace(0, 50), x1 = .5, alpha = .25, color = 'red');\n",
    "plt.fill_betweenx(y = np.linspace(0, 50), x1 = .5, x2 = 1, alpha = .25, color = 'green');\n",
    "plt.xlabel('Proportion of \"For\" votes');"
   ]
  }
 ],
 "metadata": {
  "kernelspec": {
   "display_name": "Python 3",
   "language": "python",
   "name": "python3"
  },
  "language_info": {
   "codemirror_mode": {
    "name": "ipython",
    "version": 3
   },
   "file_extension": ".py",
   "mimetype": "text/x-python",
   "name": "python",
   "nbconvert_exporter": "python",
   "pygments_lexer": "ipython3",
   "version": "3.6.5"
  }
 },
 "nbformat": 4,
 "nbformat_minor": 2
}
