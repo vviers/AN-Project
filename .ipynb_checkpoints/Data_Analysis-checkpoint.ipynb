{
 "cells": [
  {
   "cell_type": "markdown",
   "metadata": {},
   "source": [
    "# ECON 142 - Applied Econometrics\n",
    "## Network Analysis of Voting Behaviors in the French National Assembly\n",
    "### Final Project, Vincent Viers"
   ]
  },
  {
   "cell_type": "code",
   "execution_count": 1,
   "metadata": {
    "collapsed": true
   },
   "outputs": [],
   "source": [
    "import pandas as pd\n",
    "import numpy as np\n",
    "import matplotlib.pyplot as plt\n",
    "%matplotlib inline\n",
    "import warnings\n",
    "warnings.filterwarnings('ignore')\n",
    "\n",
    "import networkx as nx"
   ]
  },
  {
   "cell_type": "code",
   "execution_count": 12,
   "metadata": {
    "collapsed": true
   },
   "outputs": [],
   "source": [
    "import os"
   ]
  },
  {
   "cell_type": "markdown",
   "metadata": {},
   "source": [
    "Number of Observations for each year:\n",
    "- 2012 : 10\n",
    "\n",
    "- 2013 : 51\n",
    "\n",
    "- 2014 : 29\n",
    "\n",
    "- 2015 : 16\n",
    "\n",
    "- 2016 : 20"
   ]
  },
  {
   "cell_type": "markdown",
   "metadata": {},
   "source": [
    "Read Data generated in 'Generate_Data.ipynb'"
   ]
  },
  {
   "cell_type": "code",
   "execution_count": 122,
   "metadata": {},
   "outputs": [],
   "source": [
    "path = os.getcwd() + '/adjacency_matrices/'\n",
    "ballots2012 = [pd.read_csv(path + 'data2012_vote{}.csv'.format(i), index_col = 0) for i in range(10)]\n",
    "ballots2013 = [pd.read_csv(path + 'data2013_vote{}.csv'.format(i), index_col = 0) for i in range(51)]\n",
    "ballots2014 = [pd.read_csv(path + 'data2014_vote{}.csv'.format(i), index_col = 0) for i in range(29)]\n",
    "ballots2015 = [pd.read_csv(path + 'data2015_vote{}.csv'.format(i), index_col = 0) for i in range(16)]\n",
    "ballots2016 = [pd.read_csv(path + 'data2016_vote{}.csv'.format(i), index_col = 0) for i in range(20)]"
   ]
  },
  {
   "cell_type": "markdown",
   "metadata": {},
   "source": [
    "Create Adjacency Matrices"
   ]
  },
  {
   "cell_type": "code",
   "execution_count": 123,
   "metadata": {
    "collapsed": true
   },
   "outputs": [],
   "source": [
    "MPS2012 = list([i.index.tolist() for i in ballots2012]) #store list of voting MPs for each 2012 ballot\n",
    "MPS2013 = list([i.index.tolist() for i in ballots2013]) #store list of voting MPs for each 2013 ballot\n",
    "MPS2014 = list([i.index.tolist() for i in ballots2014]) #store list of voting MPs for each 2014 ballot\n",
    "MPS2015 = list([i.index.tolist() for i in ballots2015]) #store list of voting MPs for each 2015 ballot\n",
    "MPS2016 = list([i.index.tolist() for i in ballots2016]) #store list of voting MPs for each 2016 ballot"
   ]
  },
  {
   "cell_type": "code",
   "execution_count": 124,
   "metadata": {},
   "outputs": [],
   "source": [
    "allvoters2012 = np.unique(np.concatenate(MPS2012))\n",
    "allvoters2013 = np.unique(np.concatenate(MPS2013))\n",
    "allvoters2014 = np.unique(np.concatenate(MPS2014))\n",
    "allvoters2015 = np.unique(np.concatenate(MPS2015))\n",
    "allvoters2016 = np.unique(np.concatenate(MPS2016))"
   ]
  },
  {
   "cell_type": "code",
   "execution_count": 125,
   "metadata": {},
   "outputs": [],
   "source": [
    "ballots2012 = [i.loc[allvoters2012, allvoters2012].fillna(0) for i in ballots2012]\n",
    "ballots2013 = [i.loc[allvoters2013, allvoters2013].fillna(0) for i in ballots2013]\n",
    "ballots2014 = [i.loc[allvoters2014, allvoters2014].fillna(0) for i in ballots2014]\n",
    "ballots2015 = [i.loc[allvoters2015, allvoters2015].fillna(0) for i in ballots2015]\n",
    "ballots2016 = [i.loc[allvoters2016, allvoters2016].fillna(0) for i in ballots2016]"
   ]
  },
  {
   "cell_type": "markdown",
   "metadata": {},
   "source": [
    "Two approaches to building yearly adjacency matrices:\n",
    "\n",
    "- `all_voters` : to be included, an MP must have voted in AT LEAST ONE ballot on a given year. (Above)\n",
    "- `intersect` : to be included, an MP must have voted in ALL ballots for a given year. (the smallest common denominator) (Below)\n",
    "\n",
    "The problem with the second approach is that in practice you loose a lot of observations."
   ]
  },
  {
   "cell_type": "code",
   "execution_count": 96,
   "metadata": {
    "collapsed": true
   },
   "outputs": [],
   "source": [
    "def intersect(lists):\n",
    "    \"\"\"From a list of lists, returns the overlapping elements of all of them.\n",
    "       NB: at least 2 lists needed.\"\"\"\n",
    "    # setup\n",
    "    i = 1\n",
    "    newset = set(lists[0]).intersection(lists[1])\n",
    "    # update overlapping set recursively\n",
    "    while i < len(lists):\n",
    "        newset = newset.intersection(lists[i])\n",
    "        i += 1\n",
    "    return newset\n",
    "\n",
    "overlap2012 = intersect(MPS2012)\n",
    "overlap2013 = intersect(MPS2013)\n",
    "overlap2014 = intersect(MPS2014)\n",
    "overlap2015 = intersect(MPS2015)\n",
    "overlap2016 = intersect(MPS2016)\n",
    "#then filter each dataframe using overlaps."
   ]
  },
  {
   "cell_type": "markdown",
   "metadata": {},
   "source": [
    "Create full yearly adjacency matrices"
   ]
  },
  {
   "cell_type": "code",
   "execution_count": 126,
   "metadata": {},
   "outputs": [],
   "source": [
    "def yearly_matrix(ballots, normalize = False):\n",
    "    matrices = [np.array(i) for i in ballots]\n",
    "    fulladj = sum(matrices)\n",
    "    if (normalize == False):\n",
    "        return fulladj\n",
    "    else : return fulladj/len(ballots)"
   ]
  },
  {
   "cell_type": "code",
   "execution_count": 127,
   "metadata": {},
   "outputs": [
    {
     "data": {
      "text/plain": [
       "array([[  0.,   7.,  14., ...,  14.,  13.,  13.],\n",
       "       [  7.,   0.,   0., ...,   2.,   0.,   0.],\n",
       "       [ 14.,   0.,   0., ...,  23.,  26.,  26.],\n",
       "       ..., \n",
       "       [ 14.,   2.,  23., ...,   0.,  24.,  24.],\n",
       "       [ 13.,   0.,  26., ...,  24.,   0.,  27.],\n",
       "       [ 13.,   0.,  26., ...,  24.,  27.,   0.]])"
      ]
     },
     "execution_count": 127,
     "metadata": {},
     "output_type": "execute_result"
    }
   ],
   "source": [
    "yearly_matrix(ballots2014, normalize=False)"
   ]
  },
  {
   "cell_type": "markdown",
   "metadata": {},
   "source": [
    "# Analysis"
   ]
  },
  {
   "cell_type": "markdown",
   "metadata": {},
   "source": [
    "The president of the National Assembly (Claude Bartolone) is of course present at each ballot, but never votes.\n",
    "We drop him to ensure that our graph is fully connected (he is an *isolate* i.e has degree = 0)."
   ]
  },
  {
   "cell_type": "code",
   "execution_count": 213,
   "metadata": {},
   "outputs": [
    {
     "ename": "SyntaxError",
     "evalue": "invalid syntax (<ipython-input-213-989de29b215a>, line 1)",
     "output_type": "error",
     "traceback": [
      "\u001b[0;36m  File \u001b[0;32m\"<ipython-input-213-989de29b215a>\"\u001b[0;36m, line \u001b[0;32m1\u001b[0m\n\u001b[0;31m    Early attempt at drawing the network:\u001b[0m\n\u001b[0m                ^\u001b[0m\n\u001b[0;31mSyntaxError\u001b[0m\u001b[0;31m:\u001b[0m invalid syntax\n"
     ]
    }
   ],
   "source": [
    "Early attempt at drawing the network:"
   ]
  },
  {
   "cell_type": "code",
   "execution_count": 160,
   "metadata": {},
   "outputs": [
    {
     "name": "stdout",
     "output_type": "stream",
     "text": [
      "Density: 0.9308988531445369, Diameter: 2\n"
     ]
    },
    {
     "data": {
      "image/png": "[encoded data removed]",
      "text/plain": [
       "<matplotlib.figure.Figure at 0x13ca0a898>"
      ]
     },
     "metadata": {},
     "output_type": "display_data"
    }
   ],
   "source": [
    "ballot = nx.from_numpy_matrix(yearly_matrix(ballots2013), parallel_edges=False) # create graph\n",
    "mapping = dict(zip(ballot.nodes(), ballots2013[0].index)) # create mapping node/MP\n",
    "ballot = nx.relabel_nodes(ballot, mapping, copy = False) # rename nodes\n",
    "ballot.remove_nodes_from(nx.isolates(ballot))\n",
    "\n",
    "plt.figure(figsize=(10, 10))\n",
    "nx.draw_spectral(ballot, node_size=100, node_shape = '.', linewidths=None,\n",
    "                 alpha = 0.5, with_labels = True, style = 'dotted', font_size = 8)\n",
    "print('Density: {}, Diameter: {}'.format(nx.density(ballot), nx.diameter(ballot)))"
   ]
  },
  {
   "cell_type": "code",
   "execution_count": 200,
   "metadata": {},
   "outputs": [],
   "source": [
    "ballot = nx.from_numpy_matrix(yearly_matrix(ballots2014), parallel_edges=False) # create graph\n",
    "mapping = dict(zip(ballot.nodes(), ballots2014[0].index)) # create mapping node/MP\n",
    "ballot = nx.relabel_nodes(ballot, mapping, copy = False) # rename nodes\n",
    "ballot.remove_nodes_from(nx.isolates(ballot))"
   ]
  },
  {
   "cell_type": "markdown",
   "metadata": {},
   "source": [
    "Compute degree of each node."
   ]
  },
  {
   "cell_type": "code",
   "execution_count": 210,
   "metadata": {},
   "outputs": [],
   "source": [
    "for ix,deg in ballot.degree().items():\n",
    "    ballot.node[ix]['degree'] = deg"
   ]
  },
  {
   "cell_type": "code",
   "execution_count": 211,
   "metadata": {
    "scrolled": true
   },
   "outputs": [
    {
     "data": {
      "text/plain": [
       "[('Alain Bocquet', {'degree': 602}),\n",
       " ('Alain Calmette', {'degree': 486}),\n",
       " ('Alain Chrétien', {'degree': 321}),\n",
       " ('Alain Claeys', {'degree': 486}),\n",
       " ('Alain Fauré', {'degree': 596})]"
      ]
     },
     "execution_count": 211,
     "metadata": {},
     "output_type": "execute_result"
    }
   ],
   "source": [
    "ballot.nodes(data=True)[:5]"
   ]
  },
  {
   "cell_type": "code",
   "execution_count": null,
   "metadata": {},
   "outputs": [],
   "source": [
    "plt.figure(figsize=(10, 10))\n",
    "nx.draw_spectral(ballot, node_size=100, node_shape = '.', linewidths=None,\n",
    "                 alpha = 0.5, with_labels = True, style = 'dotted', font_size = 8)\n",
    "print('Density: {}, Diameter: {}'.format(nx.density(ballot), nx.diameter(ballot)))"
   ]
  },
  {
   "cell_type": "markdown",
   "metadata": {},
   "source": [
    "TODO:\n",
    "#! pip install pygraphviz"
   ]
  }
 ],
 "metadata": {
  "kernelspec": {
   "display_name": "Python 3",
   "language": "python",
   "name": "python3"
  },
  "language_info": {
   "codemirror_mode": {
    "name": "ipython",
    "version": 3
   },
   "file_extension": ".py",
   "mimetype": "text/x-python",
   "name": "python",
   "nbconvert_exporter": "python",
   "pygments_lexer": "ipython3",
   "version": "3.6.1"
  }
 },
 "nbformat": 4,
 "nbformat_minor": 2
}
